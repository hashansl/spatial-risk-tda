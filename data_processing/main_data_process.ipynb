{
 "cells": [
  {
   "cell_type": "markdown",
   "id": "34bc8c57",
   "metadata": {},
   "source": [
    "SVI - Data Processing\n",
    "========================"
   ]
  },
  {
   "cell_type": "code",
   "execution_count": 1,
   "id": "fba981bb",
   "metadata": {},
   "outputs": [],
   "source": [
    "from svi_treat_null import fill_null_standerdize_svi_usa"
   ]
  },
  {
   "cell_type": "code",
   "execution_count": 2,
   "id": "8a885ca7",
   "metadata": {},
   "outputs": [],
   "source": [
    "svi_data_path = \"/Users/h6x/ORNL/git/spatial-risk-tda/data/raw_data/SVI2018_US_tract.gdb\"\n",
    "save_dir = \"/Users/h6x/ORNL/git/spatial-risk-tda/data/processed_data\""
   ]
  },
  {
   "cell_type": "code",
   "execution_count": 3,
   "id": "4cafe5f6",
   "metadata": {},
   "outputs": [],
   "source": [
    "variables = [\n",
    "    'EP_POV', 'EP_UNEMP', 'EP_PCI', 'EP_NOHSDP', 'EP_UNINSUR', 'EP_AGE65', 'EP_AGE17', 'EP_DISABL', \n",
    "    'EP_SNGPNT', 'EP_LIMENG', 'EP_MINRTY', 'EP_MUNIT', 'EP_MOBILE', 'EP_CROWD', 'EP_NOVEH', 'EP_GROUPQ'\n",
    "    ]\n",
    "year = \"2018\""
   ]
  },
  {
   "cell_type": "markdown",
   "id": "ae718c87",
   "metadata": {},
   "source": [
    "Clean entire year of data(Null trated by mean, island removed, etc.)"
   ]
  },
  {
   "cell_type": "code",
   "execution_count": 4,
   "id": "7f4c65ff",
   "metadata": {},
   "outputs": [],
   "source": [
    "svi_obj = fill_null_standerdize_svi_usa(\n",
    "    svi_data_path=svi_data_path,\n",
    "    save_dir=save_dir,\n",
    "    variables=variables,\n",
    "    year=year\n",
    ")"
   ]
  },
  {
   "cell_type": "code",
   "execution_count": 5,
   "id": "a3930450",
   "metadata": {},
   "outputs": [
    {
     "name": "stdout",
     "output_type": "stream",
     "text": [
      "Processing SVI null treatment...\n"
     ]
    },
    {
     "name": "stderr",
     "output_type": "stream",
     "text": [
      "/Users/h6x/anaconda3/envs/pytorch/lib/python3.11/site-packages/libpysal/weights/weights.py:224: UserWarning: The weights matrix is not fully connected: \n",
      " There are 46 disconnected components.\n",
      " There are 24 islands with ids: 06075980401, 06111980000, 12057980200, 12086980100, 12087980100, 15003981200, 15009980000, 23029990000, 26083980100, 36061000100, 36119005600, 02198940100, 15009031601, 23009966600, 26029000500, 44005041300, 44009041500, 53053072410, 53073010900, 53073011000, 37031970200, 39123050100, 02016000100, 02016000200.\n",
      "  warnings.warn(message)\n",
      "Processing Counties: 100%|██████████| 72813/72813 [2:15:55<00:00,  8.93it/s]      \n"
     ]
    },
    {
     "name": "stdout",
     "output_type": "stream",
     "text": [
      "File saved as /USA_SVI_2018_cleaned_null_treated.gdb\n"
     ]
    }
   ],
   "source": [
    "svi_obj.filter_trear_null()"
   ]
  },
  {
   "cell_type": "markdown",
   "id": "05bb1f6d",
   "metadata": {},
   "source": [
    "Min-Max scale each variable for seleted state "
   ]
  },
  {
   "cell_type": "code",
   "execution_count": 6,
   "id": "f1649dfd",
   "metadata": {},
   "outputs": [],
   "source": [
    "state_abbr = [\"TN\",\"VA\"]"
   ]
  },
  {
   "cell_type": "code",
   "execution_count": 7,
   "id": "18ea408e",
   "metadata": {},
   "outputs": [
    {
     "name": "stdout",
     "output_type": "stream",
     "text": [
      "Scaling SVI data for TN...\n",
      "File saved as /Users/h6x/ORNL/git/spatial-risk-tda/data/processed_data/USA_SVI_2018_TN_cleaned_scaled.gdb\n",
      "Scaling SVI data for VA...\n"
     ]
    },
    {
     "name": "stderr",
     "output_type": "stream",
     "text": [
      "/Users/h6x/anaconda3/envs/pytorch/lib/python3.11/site-packages/geopandas/geodataframe.py:1543: SettingWithCopyWarning: \n",
      "A value is trying to be set on a copy of a slice from a DataFrame.\n",
      "Try using .loc[row_indexer,col_indexer] = value instead\n",
      "\n",
      "See the caveats in the documentation: https://pandas.pydata.org/pandas-docs/stable/user_guide/indexing.html#returning-a-view-versus-a-copy\n",
      "  super().__setitem__(key, value)\n",
      "/Users/h6x/anaconda3/envs/pytorch/lib/python3.11/site-packages/geopandas/geodataframe.py:1543: SettingWithCopyWarning: \n",
      "A value is trying to be set on a copy of a slice from a DataFrame.\n",
      "Try using .loc[row_indexer,col_indexer] = value instead\n",
      "\n",
      "See the caveats in the documentation: https://pandas.pydata.org/pandas-docs/stable/user_guide/indexing.html#returning-a-view-versus-a-copy\n",
      "  super().__setitem__(key, value)\n"
     ]
    },
    {
     "name": "stdout",
     "output_type": "stream",
     "text": [
      "File saved as /Users/h6x/ORNL/git/spatial-risk-tda/data/processed_data/USA_SVI_2018_VA_cleaned_scaled.gdb\n"
     ]
    }
   ],
   "source": [
    "for state in state_abbr:\n",
    "    svi_obj.minmax_scale_svi_state(state_abbr=state)"
   ]
  },
  {
   "cell_type": "markdown",
   "id": "2c24604d",
   "metadata": {},
   "source": [
    "SMR - Data Processing\n",
    "========================"
   ]
  },
  {
   "cell_type": "code",
   "execution_count": 8,
   "id": "f36340fb",
   "metadata": {},
   "outputs": [],
   "source": [
    "from smr import StandardizedMortalityRatio"
   ]
  },
  {
   "cell_type": "code",
   "execution_count": null,
   "id": "2d046190",
   "metadata": {},
   "outputs": [],
   "source": [
    "nvss_mortality_data_path = \"/Users/h6x/ORNL/git/spatial-risk-tda/data/raw_data/mort_2018.csv\""
   ]
  },
  {
   "cell_type": "code",
   "execution_count": null,
   "id": "76274b83",
   "metadata": {},
   "outputs": [],
   "source": [
    "for state in state_abbr:\n",
    "    smr = StandardizedMortalityRatio(year=year, state_abbr=state)\n",
    "    smr.get_population_data()\n",
    "    smr.clean_population_data()\n",
    "\n",
    "    smr.process_nvss_data(path=nvss_mortality_data_path)\n"
   ]
  },
  {
   "cell_type": "code",
   "execution_count": null,
   "id": "a78fd0db",
   "metadata": {},
   "outputs": [],
   "source": []
  },
  {
   "cell_type": "code",
   "execution_count": null,
   "id": "1bead855",
   "metadata": {},
   "outputs": [],
   "source": []
  },
  {
   "cell_type": "code",
   "execution_count": null,
   "id": "bf651a17",
   "metadata": {},
   "outputs": [],
   "source": []
  },
  {
   "cell_type": "code",
   "execution_count": null,
   "id": "a55a299d",
   "metadata": {},
   "outputs": [],
   "source": []
  },
  {
   "cell_type": "code",
   "execution_count": null,
   "id": "5c29a077",
   "metadata": {},
   "outputs": [],
   "source": []
  }
 ],
 "metadata": {
  "kernelspec": {
   "display_name": "pytorch",
   "language": "python",
   "name": "python3"
  },
  "language_info": {
   "codemirror_mode": {
    "name": "ipython",
    "version": 3
   },
   "file_extension": ".py",
   "mimetype": "text/x-python",
   "name": "python",
   "nbconvert_exporter": "python",
   "pygments_lexer": "ipython3",
   "version": "3.11.4"
  }
 },
 "nbformat": 4,
 "nbformat_minor": 5
}
