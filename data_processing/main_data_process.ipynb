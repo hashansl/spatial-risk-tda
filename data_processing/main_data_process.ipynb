{
 "cells": [
  {
   "cell_type": "markdown",
   "id": "34bc8c57",
   "metadata": {},
   "source": [
    "SVI - Data Processing\n",
    "========================"
   ]
  },
  {
   "cell_type": "code",
   "execution_count": 1,
   "id": "fba981bb",
   "metadata": {},
   "outputs": [],
   "source": [
    "from svi_treat_null import fill_null_standerdize_svi_usa"
   ]
  },
  {
   "cell_type": "code",
   "execution_count": 2,
   "id": "8a885ca7",
   "metadata": {},
   "outputs": [],
   "source": [
    "svi_data_path = \"/Users/h6x/CODE/Archive/git/spatial-risk-tda/data/raw_data/SVI2018_US_tract.gdb\"\n",
    "save_dir = \"/Users/h6x/CODE/Archive/git/spatial-risk-tda/data/processed_data\""
   ]
  },
  {
   "cell_type": "code",
   "execution_count": 3,
   "id": "4cafe5f6",
   "metadata": {},
   "outputs": [],
   "source": [
    "variables = [\n",
    "    'EP_POV', 'EP_UNEMP', 'EP_PCI', 'EP_NOHSDP', 'EP_UNINSUR', 'EP_AGE65', 'EP_AGE17', 'EP_DISABL', \n",
    "    'EP_SNGPNT', 'EP_LIMENG', 'EP_MINRTY', 'EP_MUNIT', 'EP_MOBILE', 'EP_CROWD', 'EP_NOVEH', 'EP_GROUPQ'\n",
    "    ]\n",
    "year = \"2018\""
   ]
  },
  {
   "cell_type": "markdown",
   "id": "ae718c87",
   "metadata": {},
   "source": [
    "Clean entire year of data(Null trated by mean, island removed, etc.)"
   ]
  },
  {
   "cell_type": "code",
   "execution_count": 4,
   "id": "7f4c65ff",
   "metadata": {},
   "outputs": [],
   "source": [
    "svi_obj = fill_null_standerdize_svi_usa(\n",
    "    svi_data_path=svi_data_path,\n",
    "    save_dir=save_dir,\n",
    "    variables=variables,\n",
    "    year=year\n",
    ")"
   ]
  },
  {
   "cell_type": "code",
   "execution_count": 5,
   "id": "a3930450",
   "metadata": {},
   "outputs": [
    {
     "name": "stdout",
     "output_type": "stream",
     "text": [
      "File already exists: /Users/h6x/CODE/Archive/git/spatial-risk-tda/data/processed_data/USA_SVI_2018_cleaned_null_treated.gdb\n"
     ]
    }
   ],
   "source": [
    "svi_obj.filter_trear_null()"
   ]
  },
  {
   "cell_type": "markdown",
   "id": "05bb1f6d",
   "metadata": {},
   "source": [
    "Min-Max scale each variable for seleted state "
   ]
  },
  {
   "cell_type": "code",
   "execution_count": 6,
   "id": "f1649dfd",
   "metadata": {},
   "outputs": [],
   "source": [
    "state_abbr = [\"TN\",\"VA\",\"MA\"]"
   ]
  },
  {
   "cell_type": "code",
   "execution_count": 7,
   "id": "18ea408e",
   "metadata": {},
   "outputs": [
    {
     "name": "stdout",
     "output_type": "stream",
     "text": [
      "File already exists: /Users/h6x/CODE/Archive/git/spatial-risk-tda/data/processed_data/USA_SVI_2018_TN_cleaned_scaled.gdb\n",
      "File already exists: /Users/h6x/CODE/Archive/git/spatial-risk-tda/data/processed_data/USA_SVI_2018_VA_cleaned_scaled.gdb\n",
      "Loading existing SVI null-treated data...\n",
      "Scaling SVI data for MA...\n",
      "File saved as /Users/h6x/CODE/Archive/git/spatial-risk-tda/data/processed_data/USA_SVI_2018_MA_cleaned_scaled.gdb\n"
     ]
    },
    {
     "name": "stderr",
     "output_type": "stream",
     "text": [
      "/Users/h6x/anaconda3/envs/pymc_env2/lib/python3.12/site-packages/geopandas/geodataframe.py:1819: SettingWithCopyWarning: \n",
      "A value is trying to be set on a copy of a slice from a DataFrame.\n",
      "Try using .loc[row_indexer,col_indexer] = value instead\n",
      "\n",
      "See the caveats in the documentation: https://pandas.pydata.org/pandas-docs/stable/user_guide/indexing.html#returning-a-view-versus-a-copy\n",
      "  super().__setitem__(key, value)\n"
     ]
    }
   ],
   "source": [
    "for state in state_abbr:\n",
    "    svi_obj.minmax_scale_svi_state(state_abbr=state)"
   ]
  },
  {
   "cell_type": "markdown",
   "id": "2c24604d",
   "metadata": {},
   "source": [
    "SMR - Data Processing\n",
    "========================"
   ]
  },
  {
   "cell_type": "code",
   "execution_count": 11,
   "id": "f36340fb",
   "metadata": {},
   "outputs": [],
   "source": [
    "from smr import StandardizedMortalityRatio\n",
    "import os"
   ]
  },
  {
   "cell_type": "code",
   "execution_count": 12,
   "id": "2d046190",
   "metadata": {},
   "outputs": [],
   "source": [
    "nvss_mortality_data_path = \"/Users/h6x/CODE/Archive/git/spatial-risk-tda/data/raw_data/mort_2018.csv\""
   ]
  },
  {
   "cell_type": "code",
   "execution_count": 13,
   "id": "76274b83",
   "metadata": {},
   "outputs": [
    {
     "name": "stdout",
     "output_type": "stream",
     "text": [
      "File /Users/h6x/CODE/Archive/git/spatial-risk-tda/data/processed_data/smr_data_2018_TN.csv already exists. Skipping...\n",
      "File /Users/h6x/CODE/Archive/git/spatial-risk-tda/data/processed_data/smr_data_2018_VA.csv already exists. Skipping...\n",
      "File /Users/h6x/CODE/Archive/git/spatial-risk-tda/data/processed_data/smr_data_2018_MA.csv does not exist. Processing...\n"
     ]
    },
    {
     "name": "stderr",
     "output_type": "stream",
     "text": [
      "/Users/h6x/CODE/Archive/git/spatial-risk-tda/data_processing/smr.py:180: DtypeWarning: Columns (35) have mixed types. Specify dtype option on import or set low_memory=False.\n",
      "  mortality_df = pd.read_csv(path)\n"
     ]
    },
    {
     "name": "stdout",
     "output_type": "stream",
     "text": [
      "SMR data for MA saved to /Users/h6x/CODE/Archive/git/spatial-risk-tda/data/processed_data/smr_data_2018_MA.csv.\n"
     ]
    },
    {
     "name": "stderr",
     "output_type": "stream",
     "text": [
      "/Users/h6x/CODE/Archive/git/spatial-risk-tda/data_processing/smr.py:223: FutureWarning: The default of observed=False is deprecated and will be changed to True in a future version of pandas. Pass observed=False to retain current behavior or observed=True to adopt the future default and silence this warning.\n",
      "  mortality_df.groupby('age_category').size().reset_index(name='deaths')\n"
     ]
    }
   ],
   "source": [
    "for state in state_abbr:\n",
    "\n",
    "    file_path = os.path.join(save_dir, f\"smr_data_{year}_{state}.csv\")\n",
    "\n",
    "    if os.path.exists(file_path):\n",
    "        print(f\"File {file_path} already exists. Skipping...\")\n",
    "        continue\n",
    "    else:\n",
    "        print(f\"File {file_path} does not exist. Processing...\")\n",
    "        smr = StandardizedMortalityRatio(year=year, state_abbr=state)\n",
    "        smr.get_population_data()\n",
    "        smr.clean_population_data()\n",
    "\n",
    "        smr.process_nvss_data(path=nvss_mortality_data_path)\n",
    "        smr.calculate_smr(save_dir=save_dir)\n",
    "\n",
    "        print(f\"SMR data for {state} saved to {file_path}.\")\n"
   ]
  },
  {
   "cell_type": "code",
   "execution_count": null,
   "id": "a78fd0db",
   "metadata": {},
   "outputs": [],
   "source": []
  },
  {
   "cell_type": "code",
   "execution_count": null,
   "id": "1bead855",
   "metadata": {},
   "outputs": [],
   "source": []
  },
  {
   "cell_type": "code",
   "execution_count": null,
   "id": "bf651a17",
   "metadata": {},
   "outputs": [],
   "source": []
  },
  {
   "cell_type": "code",
   "execution_count": null,
   "id": "a55a299d",
   "metadata": {},
   "outputs": [],
   "source": []
  },
  {
   "cell_type": "code",
   "execution_count": null,
   "id": "5c29a077",
   "metadata": {},
   "outputs": [],
   "source": []
  }
 ],
 "metadata": {
  "kernelspec": {
   "display_name": "pymc_env2",
   "language": "python",
   "name": "python3"
  },
  "language_info": {
   "codemirror_mode": {
    "name": "ipython",
    "version": 3
   },
   "file_extension": ".py",
   "mimetype": "text/x-python",
   "name": "python",
   "nbconvert_exporter": "python",
   "pygments_lexer": "ipython3",
   "version": "3.12.10"
  }
 },
 "nbformat": 4,
 "nbformat_minor": 5
}
