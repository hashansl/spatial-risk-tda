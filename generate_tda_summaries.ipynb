{
 "cells": [
  {
   "cell_type": "markdown",
   "id": "f57272ae",
   "metadata": {},
   "source": [
    "### Generate TDA summaries for a state\n"
   ]
  },
  {
   "cell_type": "code",
   "execution_count": 1,
   "id": "794288a9",
   "metadata": {},
   "outputs": [],
   "source": [
    "import os\n",
    "import pandas as pd\n",
    "\n",
    "from utills.svi import svi_tda_summaries"
   ]
  },
  {
   "cell_type": "code",
   "execution_count": 2,
   "id": "d366b23c",
   "metadata": {},
   "outputs": [],
   "source": [
    "year = \"2018\"\n",
    "state_abbreviation = \"TX\"\n",
    "filter_method = \"down\" # up, down\n",
    "\n",
    "variables = [\n",
    "    'EP_POV', 'EP_UNEMP', 'EP_PCI', 'EP_NOHSDP', 'EP_UNINSUR', 'EP_AGE65', 'EP_AGE17', 'EP_DISABL', \n",
    "    'EP_SNGPNT', 'EP_LIMENG', 'EP_MINRTY', 'EP_MUNIT', 'EP_MOBILE', 'EP_CROWD', 'EP_NOVEH', 'EP_GROUPQ'\n",
    "    ]"
   ]
  },
  {
   "cell_type": "code",
   "execution_count": 3,
   "id": "dbbdd549",
   "metadata": {},
   "outputs": [],
   "source": [
    "# output paths\n",
    "save_dir = \"/Users/h6x/CODE/Archive/git/spatial-risk-tda/data/processed_data\"\n",
    "output_file_name = f\"tda_summaries_{year}_{state_abbreviation}_{filter_method}.csv\"\n",
    "output_file_path = os.path.join(save_dir, output_file_name)\n",
    "\n",
    "# input paths\n",
    "file_name = f\"USA_SVI_{year}_{state_abbreviation}_cleaned_scaled.gdb\"\n",
    "input_file_path = os.path.join(save_dir, file_name)\n"
   ]
  },
  {
   "cell_type": "code",
   "execution_count": 4,
   "id": "e5b79a86",
   "metadata": {},
   "outputs": [
    {
     "name": "stdout",
     "output_type": "stream",
     "text": [
      "Input file found: /Users/h6x/CODE/Archive/git/spatial-risk-tda/data/processed_data/USA_SVI_2018_TX_cleaned_scaled.gdb\n",
      "File /Users/h6x/CODE/Archive/git/spatial-risk-tda/data/processed_data/tda_summaries_2018_TX_down.csv does not exist. Creating new file...\n"
     ]
    },
    {
     "name": "stderr",
     "output_type": "stream",
     "text": [
      "Processing Counties: 100%|██████████| 254/254 [00:48<00:00,  5.26it/s]"
     ]
    },
    {
     "name": "stdout",
     "output_type": "stream",
     "text": [
      "TDA summaries computed successfully.\n",
      "File saved to /Users/h6x/CODE/Archive/git/spatial-risk-tda/data/processed_data/tda_summaries_2018_TX_down.csv\n"
     ]
    },
    {
     "name": "stderr",
     "output_type": "stream",
     "text": [
      "\n"
     ]
    }
   ],
   "source": [
    "if os.path.exists(input_file_path):\n",
    "    print(f\"Input file found: {input_file_path}\")\n",
    "\n",
    "    # check the output file already exists\n",
    "    if os.path.exists(output_file_path):\n",
    "        print(f'File {output_file_path} already exists. Skipping...')\n",
    "\n",
    "    else:\n",
    "        print(f'File {output_file_path} does not exist. Creating new file...')\n",
    "\n",
    "        svi_tda = svi_tda_summaries(input_file_path, variables, filter_method=filter_method)\n",
    "        svi_summary_df = svi_tda.compute_tda_summaries_svi()\n",
    "        svi_summary_df.to_csv(output_file_path)\n",
    "\n",
    "        print(f\"File saved to {output_file_path}\")\n",
    "\n",
    "else:\n",
    "    print(f\"Input file not found: scaled svi file for {year} {state_abbreviation}\")\n"
   ]
  },
  {
   "cell_type": "code",
   "execution_count": null,
   "id": "7275b9ac",
   "metadata": {},
   "outputs": [],
   "source": []
  }
 ],
 "metadata": {
  "kernelspec": {
   "display_name": "pymc_env2",
   "language": "python",
   "name": "python3"
  },
  "language_info": {
   "codemirror_mode": {
    "name": "ipython",
    "version": 3
   },
   "file_extension": ".py",
   "mimetype": "text/x-python",
   "name": "python",
   "nbconvert_exporter": "python",
   "pygments_lexer": "ipython3",
   "version": "3.12.10"
  }
 },
 "nbformat": 4,
 "nbformat_minor": 5
}
