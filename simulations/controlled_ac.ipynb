{
 "cells": [
  {
   "cell_type": "markdown",
   "id": "616d7246",
   "metadata": {},
   "source": [
    "### Controlled: Autocorrelation\n",
    "\n",
    "Fixed : Grid size, Average variable value"
   ]
  },
  {
   "cell_type": "markdown",
   "id": "19556b1b",
   "metadata": {},
   "source": [
    "SAR Model"
   ]
  },
  {
   "cell_type": "markdown",
   "id": "a0ee9a1d",
   "metadata": {},
   "source": [
    "The SAR model is a statistical model designed to account for spatial autocorrelation, i.e., the idea that observations close to each other in space are more likely to have similar values than those further apart.\n"
   ]
  },
  {
   "cell_type": "markdown",
   "id": "139b478d",
   "metadata": {},
   "source": [
    "\\begin{equation}\n",
    "y = \\rho W y + \\epsilon\n",
    "\\end{equation}\n",
    "\n",
    "where:\n",
    "- \\(y\\) is the dependent variable\n",
    "- \\(\\rho\\) is the spatial autoregressive parameter\n",
    "- \\(W\\) is the spatial weights matrix\n",
    "- \\(\\epsilon\\) is the error term\n",
    "\n",
    "\n",
    "\n",
    "\n"
   ]
  },
  {
   "cell_type": "code",
   "execution_count": 1,
   "id": "23ebf458",
   "metadata": {},
   "outputs": [
    {
     "name": "stderr",
     "output_type": "stream",
     "text": [
      "/Users/h6x/anaconda3/envs/TDA/lib/python3.11/site-packages/pandas/core/arrays/masked.py:60: UserWarning: Pandas requires version '1.3.6' or newer of 'bottleneck' (version '1.3.5' currently installed).\n",
      "  from pandas.core import (\n"
     ]
    }
   ],
   "source": [
    "\n",
    "import numpy as np\n",
    "import scipy.sparse as sp\n",
    "from scipy.linalg import inv\n",
    "import matplotlib.pyplot as plt\n",
    "import seaborn as sns\n",
    "import pandas as pd\n",
    "from shapely import geometry as geom\n",
    "import geopandas as gpd\n"
   ]
  },
  {
   "cell_type": "code",
   "execution_count": 2,
   "id": "8abe7d23",
   "metadata": {},
   "outputs": [],
   "source": [
    "# def create_rook_adjacency(n):\n",
    "#     \"\"\"\n",
    "#     Create a rook adjacency matrix for an n x n grid.\n",
    "#     Each cell is connected to its 4 adjacent neighbors (north, south, east, west).\n",
    "    \n",
    "#     Parameters:\n",
    "#     -----------\n",
    "#     n : int\n",
    "#         Size of the grid (n x n)\n",
    "        \n",
    "#     Returns:\n",
    "#     --------\n",
    "#     W : scipy.sparse.csr_matrix\n",
    "#         Sparse adjacency matrix (n² x n²)\n",
    "#     \"\"\"\n",
    "#     W = sp.lil_matrix((n * n, n * n))\n",
    "#     for row in range(n):\n",
    "#         for col in range(n):\n",
    "#             idx = row * n + col\n",
    "#             # Connect to adjacent cells (rook pattern)\n",
    "#             if row > 0:  # North\n",
    "#                 W[idx, (row - 1) * n + col] = 1\n",
    "#             if row < n - 1:  # South\n",
    "#                 W[idx, (row + 1) * n + col] = 1\n",
    "#             if col > 0:  # West\n",
    "#                 W[idx, row * n + (col - 1)] = 1\n",
    "#             if col < n - 1:  # East\n",
    "#                 W[idx, row * n + (col + 1)] = 1\n",
    "    \n",
    "#     # Return as CSR format for efficient operations\n",
    "#     return W.tocsr()\n"
   ]
  },
  {
   "cell_type": "code",
   "execution_count": 3,
   "id": "864212e2",
   "metadata": {},
   "outputs": [],
   "source": [
    "def create_queen_adjacency(n):\n",
    "    \"\"\"\n",
    "    Create a queen adjacency matrix for an n x n grid.\n",
    "    Each cell is connected to its 8 adjacent neighbors (N, S, E, W, NE, NW, SE, SW).\n",
    "    \n",
    "    Parameters:\n",
    "    -----------\n",
    "    n : int\n",
    "        Size of the grid (n x n)\n",
    "        \n",
    "    Returns:\n",
    "    --------\n",
    "    W : scipy.sparse.csr_matrix\n",
    "        Sparse adjacency matrix (n² x n²)\n",
    "    \"\"\"\n",
    "    W = sp.lil_matrix((n * n, n * n))\n",
    "    for row in range(n):\n",
    "        for col in range(n):\n",
    "            idx = row * n + col\n",
    "            \n",
    "            # Cardinal directions (same as rook)\n",
    "            if row > 0:  # North\n",
    "                W[idx, (row - 1) * n + col] = 1\n",
    "            if row < n - 1:  # South\n",
    "                W[idx, (row + 1) * n + col] = 1\n",
    "            if col > 0:  # West\n",
    "                W[idx, row * n + (col - 1)] = 1\n",
    "            if col < n - 1:  # East\n",
    "                W[idx, row * n + (col + 1)] = 1\n",
    "                \n",
    "            # Diagonal connections (unique to queen)\n",
    "            if row > 0 and col > 0:  # Northwest\n",
    "                W[idx, (row - 1) * n + (col - 1)] = 1\n",
    "            if row > 0 and col < n - 1:  # Northeast\n",
    "                W[idx, (row - 1) * n + (col + 1)] = 1\n",
    "            if row < n - 1 and col > 0:  # Southwest\n",
    "                W[idx, (row + 1) * n + (col - 1)] = 1\n",
    "            if row < n - 1 and col < n - 1:  # Southeast\n",
    "                W[idx, (row + 1) * n + (col + 1)] = 1\n",
    "    \n",
    "    # Return as CSR format for efficient operations\n",
    "    return W.tocsr()"
   ]
  },
  {
   "cell_type": "code",
   "execution_count": 4,
   "id": "d014768f",
   "metadata": {},
   "outputs": [],
   "source": [
    "def row_standardize_sparse(W):\n",
    "    \"\"\"\n",
    "    Row-standardize a sparse matrix efficiently.\n",
    "    \n",
    "    Parameters:\n",
    "    -----------\n",
    "    W : scipy.sparse.csr_matrix\n",
    "        Input sparse matrix\n",
    "        \n",
    "    Returns:\n",
    "    --------\n",
    "    W_std : scipy.sparse.csr_matrix\n",
    "        Row-standardized sparse matrix\n",
    "    \"\"\"\n",
    "    W_csr = W.tocsr()\n",
    "    row_sums = np.array(W_csr.sum(axis=1)).flatten()\n",
    "    # Handle zero row sums to avoid division by zero\n",
    "    # row_sums[row_sums == 0] = 1\n",
    "    \n",
    "    # Create diagonal matrix with inverse of row sums\n",
    "    D_inv = sp.diags(1.0 / row_sums)\n",
    "    \n",
    "    # Multiply to get row-standardized matrix\n",
    "    W_std = D_inv @ W_csr\n",
    "    return W_std"
   ]
  },
  {
   "cell_type": "markdown",
   "id": "71d6472c",
   "metadata": {},
   "source": [
    "The function simulates values based on the sar model,\n",
    "\n",
    "\\begin{equation}\n",
    "y = (I - \\rho W)^{-1} \\epsilon\n",
    "\\end{equation}\n",
    "\n",
    "where:\n",
    "- \\(I\\) is the identity matrix"
   ]
  },
  {
   "cell_type": "code",
   "execution_count": 5,
   "id": "dc93517e",
   "metadata": {},
   "outputs": [],
   "source": [
    "def simulate_sar_fixed_mean(W, rho, fixed_mean=0.15, sigma=1.0, random_seed=None):\n",
    "    \"\"\"\n",
    "    Simulate a Spatial Autoregressive (SAR) process with a fixed mean.\n",
    "    \n",
    "    Model: y = (I - ρW)^(-1) * ε\n",
    "    \n",
    "    Parameters:\n",
    "    -----------\n",
    "    W : scipy.sparse.csr_matrix\n",
    "        Row-standardized spatial weights matrix\n",
    "    rho : float\n",
    "        Spatial autocorrelation parameter (between 0 and 1)\n",
    "    fixed_mean : float\n",
    "        Target mean for the output values\n",
    "    sigma : float\n",
    "        Standard deviation of the error terms\n",
    "    random_seed : int or None\n",
    "        Random seed for reproducibility\n",
    "        \n",
    "    Returns:\n",
    "    --------\n",
    "    y : numpy.ndarray\n",
    "        Simulated values with the specified autocorrelation and mean\n",
    "    \"\"\"\n",
    "    if random_seed is not None:\n",
    "        np.random.seed(random_seed)\n",
    "    \n",
    "    n = W.shape[0]\n",
    "    I = sp.identity(n, format='csr')\n",
    "    \n",
    "    # Generate random error terms\n",
    "    epsilon = np.random.normal(0, sigma, size=n)\n",
    "    \n",
    "    # Calculate (I - ρW)^(-1)\n",
    "    # For large matrices, consider using sparse solvers instead of direct inversion\n",
    "    A_inv = inv((I - rho * W).toarray())\n",
    "    \n",
    "    # Compute SAR process: y = (I - ρW)^(-1) * ε\n",
    "    y = A_inv @ epsilon\n",
    "    \n",
    "    # Adjust to the target mean while preserving variance structure\n",
    "    y = y - np.mean(y) + fixed_mean # Since the SAR process doesn't inherently control the mean\n",
    "    \n",
    "    return y"
   ]
  },
  {
   "cell_type": "code",
   "execution_count": 6,
   "id": "f2eb49bf",
   "metadata": {},
   "outputs": [],
   "source": [
    "def visualize_spatial_autocorrelation(simulations, n, rhos, fixed_mean, cmap='coolwarm'):\n",
    "    \"\"\"\n",
    "    Visualize spatial autocorrelation with different parameters.\n",
    "    \n",
    "    Parameters:\n",
    "    -----------\n",
    "    simulations : dict\n",
    "        Dictionary with rho values as keys and simulated data as values\n",
    "    n : int\n",
    "        Grid size (n x n)\n",
    "    rhos : list\n",
    "        List of rho values used in simulations\n",
    "    fixed_mean : float\n",
    "        Target mean used in simulations\n",
    "    cmap : str\n",
    "        Colormap for visualization\n",
    "    \"\"\"\n",
    "    fig, axs = plt.subplots(1, len(rhos), figsize=(5*len(rhos), 5))\n",
    "    \n",
    "    # Find global min and max for consistent color scaling\n",
    "    vmin = min(sim.min() for sim in simulations.values())\n",
    "    vmax = max(sim.max() for sim in simulations.values())\n",
    "    \n",
    "    for i, rho in enumerate(rhos):\n",
    "        sim_data = simulations[rho].reshape((n, n))\n",
    "        im = axs[i].imshow(sim_data, cmap=cmap, vmin=vmin, vmax=vmax)\n",
    "        axs[i].set_title(f\"ρ = {rho}\\nMean = {simulations[rho].mean():.3f}\")\n",
    "        axs[i].axis('off')\n",
    "    \n",
    "    # Add colorbar\n",
    "    cbar_ax = fig.add_axes([0.92, 0.15, 0.02, 0.7])\n",
    "    fig.colorbar(im, cax=cbar_ax)\n",
    "    \n",
    "    plt.suptitle(f\"Spatial Autocorrelation Simulation (Fixed Mean = {fixed_mean})\", fontsize=16)\n",
    "    plt.tight_layout(rect=[0, 0, 0.9, 0.95])\n",
    "    return fig"
   ]
  },
  {
   "cell_type": "markdown",
   "id": "7f9a19f9",
   "metadata": {},
   "source": [
    "Main Function"
   ]
  },
  {
   "cell_type": "code",
   "execution_count": 7,
   "id": "17e8a040",
   "metadata": {},
   "outputs": [],
   "source": [
    "# Parameters\n",
    "n = 12  # Grid size\n",
    "fixed_mean = 0.8\n",
    "sigma = 1.0\n",
    "random_seed = 42\n",
    "\n",
    "# Create adjacency matrix\n",
    "W = create_queen_adjacency(n)\n",
    "\n",
    "# Row-standardize the weights matrix\n",
    "W_std = row_standardize_sparse(W)\n",
    "\n",
    "# Simulate with different autocorrelation levels\n",
    "# rhos = [-0.7,-0.3,0.0, 0.3, 0.7]\n",
    "# rhos = [-0.9,-0.8,-0.7,-0.6,-0.5,-0.4,-0.3,-0.2,-0.1, 0.0, 0.1, 0.2, 0.3, 0.4, 0.5, 0.6, 0.7, 0.8, 0.9]\n",
    "rhos = [-0.9,-0.3,0.0, 0.3, 0.9]\n",
    "\n",
    "\n",
    "\n",
    "simulations = {\n",
    "    rho: simulate_sar_fixed_mean(W_std, rho, fixed_mean=fixed_mean, \n",
    "                                    sigma=sigma, random_seed=random_seed) \n",
    "    for rho in rhos\n",
    "}\n",
    "\n",
    "#  # Visualize\n",
    "# fig = visualize_spatial_autocorrelation(simulations, n, rhos, fixed_mean)\n",
    "# plt.show()\n",
    "\n",
    "# # Additional visualization: histogram of values for each rho\n",
    "# plt.figure(figsize=(12, 5))\n",
    "# for rho in rhos:\n",
    "#     sns.kdeplot(simulations[rho], label=f\"ρ = {rho}\")\n",
    "\n",
    "# plt.axvline(x=fixed_mean, color='black', linestyle='--', label=f\"Target Mean = {fixed_mean}\")\n",
    "# plt.title(\"Distribution of Values Across Different Spatial Autocorrelation Levels\")\n",
    "# plt.xlabel(\"Value\")\n",
    "# plt.ylabel(\"Density\")\n",
    "# plt.legend()\n",
    "# plt.tight_layout()\n",
    "# plt.show()\n"
   ]
  },
  {
   "cell_type": "markdown",
   "id": "4dec0b30",
   "metadata": {},
   "source": [
    "Let's create df for each rho including geometry"
   ]
  },
  {
   "cell_type": "code",
   "execution_count": 8,
   "id": "7e752ca0",
   "metadata": {},
   "outputs": [],
   "source": [
    "def create_dfs_for_simulations(simulations, rhos, n):\n",
    "    \"\"\"\n",
    "    Create a DataFrame for each simulation result.\n",
    "    \n",
    "    Parameters:\n",
    "    -----------\n",
    "    simulations : dict\n",
    "        Dictionary with rho values as keys and simulated data as values\n",
    "    rhos : list\n",
    "        List of rho values used in simulations\n",
    "    n : int\n",
    "        Grid size (n x n)\n",
    "        \n",
    "    Returns:\n",
    "    --------\n",
    "    dfs : dict\n",
    "        Dictionary with rho values as keys and DataFrames as values\n",
    "    \"\"\"\n",
    "    geodataframes = {}\n",
    "    df_index = pd.DataFrame({'Index': np.arange(n**2)})\n",
    "\n",
    "    # Function to calculate square coordinates based on the grid index\n",
    "    def calculate_square_coordinates(row,n):\n",
    "        value = row['Index']\n",
    "        x = value % n\n",
    "        y = value // n\n",
    "        return geom.Polygon([(x, y), (x+1, y), (x+1, y+1), (x, y+1)])\n",
    "    \n",
    "    df_index['geometry'] = df_index.apply(calculate_square_coordinates, axis=1, n=n)\n",
    "    \n",
    "\n",
    "    for rho in rhos:\n",
    "        temp_df = df_index.copy()\n",
    "        temp_df['Value'] = simulations[rho]\n",
    "\n",
    "        temp_gdf = gpd.GeoDataFrame(temp_df, geometry='geometry')\n",
    "\n",
    "        geodataframes[rho] = temp_gdf\n",
    "    \n",
    "    return geodataframes"
   ]
  },
  {
   "cell_type": "code",
   "execution_count": 9,
   "id": "6c89678a",
   "metadata": {},
   "outputs": [],
   "source": [
    "geo_dataframes = create_dfs_for_simulations(simulations, rhos, n)"
   ]
  },
  {
   "cell_type": "code",
   "execution_count": 10,
   "id": "00c20903",
   "metadata": {},
   "outputs": [
    {
     "data": {
      "image/png": "[encoded data removed]",
      "text/plain": [
       "<Figure size 2500x500 with 10 Axes>"
      ]
     },
     "metadata": {},
     "output_type": "display_data"
    }
   ],
   "source": [
    "# plotting the geodataframes\n",
    "fig, axs = plt.subplots(1, len(rhos), figsize=(5*len(rhos), 5))\n",
    "\n",
    "for i, rho in enumerate(rhos):\n",
    "    geo_dataframes[rho].plot(column='Value', ax=axs[i], legend=True, cmap='coolwarm', \n",
    "                              legend_kwds={'label': \"Simulated Value\", 'orientation': \"horizontal\"})\n",
    "    axs[i].set_title(f\"ρ = {rho}\\nMean = {geo_dataframes[rho]['Value'].mean():.3f}\")\n",
    "    axs[i].axis('off')\n",
    "plt.suptitle(f\"Spatial Autocorrelation Simulation (Fixed Mean = {fixed_mean})\", fontsize=16)\n",
    "plt.tight_layout(rect=[0, 0, 0.9, 0.95])\n",
    "plt.show()"
   ]
  },
  {
   "cell_type": "code",
   "execution_count": 11,
   "id": "30d17d1b",
   "metadata": {},
   "outputs": [
    {
     "data": {
      "image/png": "[encoded data removed]",
      "text/plain": [
       "<Figure size 2500x500 with 5 Axes>"
      ]
     },
     "metadata": {},
     "output_type": "display_data"
    }
   ],
   "source": [
    "# plotting the geodataframes\n",
    "fig, axs = plt.subplots(1, len(rhos), figsize=(5*len(rhos), 5))\n",
    "\n",
    "for i, rho in enumerate(rhos):\n",
    "    geo_dataframes[rho].plot(column='Value', ax=axs[i], legend=False, cmap='coolwarm')\n",
    "    # axs[i].set_title(f\"ρ = {rho}\\nMean = {geo_dataframes[rho]['Value'].mean():.3f}\")\n",
    "    axs[i].axis('off')\n",
    "    # Add subplot labels (a), (b), etc. at the bottom\n",
    "    subplot_label = f\"({chr(97+i)})\"  # 97 is ASCII for 'a'\n",
    "    axs[i].text(0.5, -0.05, subplot_label, transform=axs[i].transAxes, \n",
    "                ha='center', va='top', fontsize=14)\n",
    "    \n",
    "# plt.suptitle(f\"Spatial Autocorrelation Simulation (Fixed Mean = {fixed_mean})\", fontsize=16)\n",
    "# plt.tight_layout(rect=[0, 0, 0.9, 0.95])\n",
    "plt.show()"
   ]
  },
  {
   "cell_type": "code",
   "execution_count": 14,
   "id": "14bef3f0",
   "metadata": {},
   "outputs": [
    {
     "data": {
      "image/png": "[encoded data removed]",
      "text/plain": [
       "<Figure size 500x500 with 1 Axes>"
      ]
     },
     "metadata": {},
     "output_type": "display_data"
    },
    {
     "data": {
      "image/png": "[encoded data removed]",
      "text/plain": [
       "<Figure size 500x500 with 1 Axes>"
      ]
     },
     "metadata": {},
     "output_type": "display_data"
    },
    {
     "data": {
      "image/png": "[encoded data removed]",
      "text/plain": [
       "<Figure size 500x500 with 1 Axes>"
      ]
     },
     "metadata": {},
     "output_type": "display_data"
    },
    {
     "data": {
      "image/png": "[encoded data removed]",
      "text/plain": [
       "<Figure size 500x500 with 1 Axes>"
      ]
     },
     "metadata": {},
     "output_type": "display_data"
    },
    {
     "data": {
      "image/png": "[encoded data removed]",
      "text/plain": [
       "<Figure size 500x500 with 1 Axes>"
      ]
     },
     "metadata": {},
     "output_type": "display_data"
    }
   ],
   "source": [
    "for i, rho in enumerate(rhos):\n",
    "    fig, ax = plt.subplots(1, 1, figsize=(5, 5))\n",
    "    geo_dataframes[rho].plot(column='Value', ax=ax, legend=False, cmap='coolwarm')\n",
    "    \n",
    "    ax.axis('off')\n",
    "\n",
    "    plt.tight_layout()\n",
    "    # plt.show()\n",
    "    plt.savefig(f\"spatial_autocorrelation{i}.png\", bbox_inches='tight', dpi=300)"
   ]
  },
  {
   "cell_type": "markdown",
   "id": "cfe49f15",
   "metadata": {},
   "source": [
    "Extract the TDA summaries"
   ]
  },
  {
   "cell_type": "code",
   "execution_count": 12,
   "id": "46bd8500",
   "metadata": {},
   "outputs": [],
   "source": [
    "from utills.geodata import generate_grid_dataframe,calculate_moran_i\n",
    "\n",
    "from utills.adjacency_simplex import AdjacencySimplex \n",
    "from utills.calculate_tda_summaries import compute_persistence"
   ]
  },
  {
   "cell_type": "code",
   "execution_count": 13,
   "id": "9e5ff88c",
   "metadata": {},
   "outputs": [],
   "source": [
    "results_df = pd.DataFrame(columns=['GDF','Filter Method','TL','AL','TML','AML','Average'])\n",
    "\n",
    "for rho in rhos:\n",
    "\n",
    "    gdf = geo_dataframes[rho]\n",
    "\n",
    "    average = gdf['Value'].mean()\n",
    "\n",
    "    adj_simplex =AdjacencySimplex(gdf, 'Value', threshold = None, filter_method = 'down')\n",
    "\n",
    "    # Filter the GeoDataFrame\n",
    "    filtered_df,gdf_id = adj_simplex.filter_sort_gdf()\n",
    "\n",
    "    # Calculate the adjacent countries\n",
    "    adj_simplex.calculate_adjacent_countries()\n",
    "\n",
    "    # Form the simplicial complex\n",
    "    simplex = adj_simplex.form_simplicial_complex()\n",
    "\n",
    "    # Compute the persistence\n",
    "    _,TL, AL, TML, AML,_ = compute_persistence(simplices=simplex,filtered_df=filtered_df,variable_name='Value')\n",
    "\n",
    "    # Add the results to the results_df\n",
    "    new_row = pd.DataFrame({'GDF': rho,\n",
    "                                'Filter Method': ['down'],\n",
    "                                'TL': [TL],\n",
    "                                'AL': [AL],\n",
    "                                'TML': [TML],\n",
    "                                'AML': [AML],\n",
    "                                'Average': average},\n",
    "                                )\n",
    "    results_df = pd.concat([results_df, new_row], ignore_index=True)\n",
    "\n"
   ]
  },
  {
   "cell_type": "code",
   "execution_count": 14,
   "id": "c8f8462e",
   "metadata": {},
   "outputs": [
    {
     "data": {
      "text/html": [
       "<div>\n",
       "<style scoped>\n",
       "    .dataframe tbody tr th:only-of-type {\n",
       "        vertical-align: middle;\n",
       "    }\n",
       "\n",
       "    .dataframe tbody tr th {\n",
       "        vertical-align: top;\n",
       "    }\n",
       "\n",
       "    .dataframe thead th {\n",
       "        text-align: right;\n",
       "    }\n",
       "</style>\n",
       "<table border=\"1\" class=\"dataframe\">\n",
       "  <thead>\n",
       "    <tr style=\"text-align: right;\">\n",
       "      <th></th>\n",
       "      <th>GDF</th>\n",
       "      <th>Filter Method</th>\n",
       "      <th>TL</th>\n",
       "      <th>AL</th>\n",
       "      <th>TML</th>\n",
       "      <th>AML</th>\n",
       "      <th>Average</th>\n",
       "    </tr>\n",
       "  </thead>\n",
       "  <tbody>\n",
       "    <tr>\n",
       "      <th>0</th>\n",
       "      <td>-0.9</td>\n",
       "      <td>down</td>\n",
       "      <td>435.628725</td>\n",
       "      <td>3.025199</td>\n",
       "      <td>217.814362</td>\n",
       "      <td>1.512600</td>\n",
       "      <td>0.8</td>\n",
       "    </tr>\n",
       "    <tr>\n",
       "      <th>1</th>\n",
       "      <td>-0.3</td>\n",
       "      <td>down</td>\n",
       "      <td>391.450986</td>\n",
       "      <td>2.718410</td>\n",
       "      <td>195.725493</td>\n",
       "      <td>1.359205</td>\n",
       "      <td>0.8</td>\n",
       "    </tr>\n",
       "    <tr>\n",
       "      <th>2</th>\n",
       "      <td>0.0</td>\n",
       "      <td>down</td>\n",
       "      <td>386.298268</td>\n",
       "      <td>2.682627</td>\n",
       "      <td>193.149134</td>\n",
       "      <td>1.341313</td>\n",
       "      <td>0.8</td>\n",
       "    </tr>\n",
       "    <tr>\n",
       "      <th>3</th>\n",
       "      <td>0.3</td>\n",
       "      <td>down</td>\n",
       "      <td>392.420045</td>\n",
       "      <td>2.725139</td>\n",
       "      <td>196.210023</td>\n",
       "      <td>1.362570</td>\n",
       "      <td>0.8</td>\n",
       "    </tr>\n",
       "    <tr>\n",
       "      <th>4</th>\n",
       "      <td>0.9</td>\n",
       "      <td>down</td>\n",
       "      <td>546.862918</td>\n",
       "      <td>3.797659</td>\n",
       "      <td>273.431459</td>\n",
       "      <td>1.898830</td>\n",
       "      <td>0.8</td>\n",
       "    </tr>\n",
       "  </tbody>\n",
       "</table>\n",
       "</div>"
      ],
      "text/plain": [
       "   GDF Filter Method          TL        AL         TML       AML  Average\n",
       "0 -0.9          down  435.628725  3.025199  217.814362  1.512600      0.8\n",
       "1 -0.3          down  391.450986  2.718410  195.725493  1.359205      0.8\n",
       "2  0.0          down  386.298268  2.682627  193.149134  1.341313      0.8\n",
       "3  0.3          down  392.420045  2.725139  196.210023  1.362570      0.8\n",
       "4  0.9          down  546.862918  3.797659  273.431459  1.898830      0.8"
      ]
     },
     "execution_count": 14,
     "metadata": {},
     "output_type": "execute_result"
    }
   ],
   "source": [
    "results_df"
   ]
  },
  {
   "cell_type": "code",
   "execution_count": 17,
   "id": "f6296f0b",
   "metadata": {},
   "outputs": [
    {
     "data": {
      "image/png": "[encoded data removed]",
      "text/plain": [
       "<Figure size 1000x600 with 1 Axes>"
      ]
     },
     "metadata": {},
     "output_type": "display_data"
    }
   ],
   "source": [
    "# plot a line plot of the results X axis is GDF and Y axis is TL, AL, TML, AML\n",
    "fig, ax = plt.subplots(figsize=(10, 6))\n",
    "for col in ['AL', 'AML']:\n",
    "    ax.plot(results_df['GDF'], results_df[col], label=col)\n",
    "ax.set_xlabel('Autocorrlation')\n",
    "ax.set_ylabel('Value')\n",
    "# ax.set_title('Line plot of Al and AML')\n",
    "# ax.legend()\n",
    "plt.show()"
   ]
  },
  {
   "cell_type": "code",
   "execution_count": null,
   "id": "0acab727",
   "metadata": {},
   "outputs": [],
   "source": []
  }
 ],
 "metadata": {
  "kernelspec": {
   "display_name": "TDA",
   "language": "python",
   "name": "python3"
  },
  "language_info": {
   "codemirror_mode": {
    "name": "ipython",
    "version": 3
   },
   "file_extension": ".py",
   "mimetype": "text/x-python",
   "name": "python",
   "nbconvert_exporter": "python",
   "pygments_lexer": "ipython3",
   "version": "3.11.4"
  }
 },
 "nbformat": 4,
 "nbformat_minor": 5
}
