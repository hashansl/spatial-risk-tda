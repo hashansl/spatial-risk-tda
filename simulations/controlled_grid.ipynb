{
 "cells": [
  {
   "cell_type": "markdown",
   "id": "2eb4113b",
   "metadata": {},
   "source": [
    "### Controlled: Grid Size\n",
    "\n",
    "Fixed: Avarage variable value, Autocorrlation"
   ]
  },
  {
   "cell_type": "code",
   "execution_count": 3,
   "id": "ba78941c",
   "metadata": {},
   "outputs": [],
   "source": [
    "import numpy as np\n",
    "import scipy.sparse as sp\n",
    "from scipy.linalg import inv\n",
    "import matplotlib.pyplot as plt\n",
    "import seaborn as sns\n",
    "import pandas as pd\n",
    "from shapely import geometry as geom\n",
    "import geopandas as gpd\n",
    "import time"
   ]
  },
  {
   "cell_type": "code",
   "execution_count": 4,
   "id": "fecdb579",
   "metadata": {},
   "outputs": [],
   "source": [
    "def create_queen_adjacency(n):\n",
    "    \"\"\"\n",
    "    Create a queen adjacency matrix for an n x n grid.\n",
    "    Each cell is connected to its 8 adjacent neighbors (N, S, E, W, NE, NW, SE, SW).\n",
    "    \n",
    "    Parameters:\n",
    "    -----------\n",
    "    n : int\n",
    "        Size of the grid (n x n)\n",
    "        \n",
    "    Returns:\n",
    "    --------\n",
    "    W : scipy.sparse.csr_matrix\n",
    "        Sparse adjacency matrix (n² x n²)\n",
    "    \"\"\"\n",
    "    W = sp.lil_matrix((n * n, n * n))\n",
    "    for row in range(n):\n",
    "        for col in range(n):\n",
    "            idx = row * n + col\n",
    "            \n",
    "            # Cardinal directions (same as rook)\n",
    "            if row > 0:  # North\n",
    "                W[idx, (row - 1) * n + col] = 1\n",
    "            if row < n - 1:  # South\n",
    "                W[idx, (row + 1) * n + col] = 1\n",
    "            if col > 0:  # West\n",
    "                W[idx, row * n + (col - 1)] = 1\n",
    "            if col < n - 1:  # East\n",
    "                W[idx, row * n + (col + 1)] = 1\n",
    "                \n",
    "            # Diagonal connections (unique to queen)\n",
    "            if row > 0 and col > 0:  # Northwest\n",
    "                W[idx, (row - 1) * n + (col - 1)] = 1\n",
    "            if row > 0 and col < n - 1:  # Northeast\n",
    "                W[idx, (row - 1) * n + (col + 1)] = 1\n",
    "            if row < n - 1 and col > 0:  # Southwest\n",
    "                W[idx, (row + 1) * n + (col - 1)] = 1\n",
    "            if row < n - 1 and col < n - 1:  # Southeast\n",
    "                W[idx, (row + 1) * n + (col + 1)] = 1\n",
    "    \n",
    "    # Return as CSR format for efficient operations\n",
    "    return W.tocsr()"
   ]
  },
  {
   "cell_type": "code",
   "execution_count": 5,
   "id": "7d740a7f",
   "metadata": {},
   "outputs": [],
   "source": [
    "def row_standardize_sparse(W):\n",
    "    \"\"\"\n",
    "    Row-standardize a sparse matrix efficiently.\n",
    "    \"\"\"\n",
    "    W_csr = W.tocsr()\n",
    "    row_sums = np.array(W_csr.sum(axis=1)).flatten()\n",
    "    # Handle zero row sums to avoid division by zero\n",
    "    # row_sums[row_sums == 0] = 1\n",
    "    \n",
    "    # Create diagonal matrix with inverse of row sums\n",
    "    D_inv = sp.diags(1.0 / row_sums)\n",
    "    \n",
    "    # Multiply to get row-standardized matrix\n",
    "    W_std = D_inv @ W_csr\n",
    "    return W_std"
   ]
  },
  {
   "cell_type": "code",
   "execution_count": 6,
   "id": "b52369ac",
   "metadata": {},
   "outputs": [],
   "source": [
    "def simulate_sar_fixed_mean(W, rho, fixed_mean=0.15, sigma=1.0, random_seed=None):\n",
    "    \"\"\"\n",
    "    Simulate a Spatial Autoregressive (SAR) process with a fixed mean.\n",
    "    \n",
    "    Model: y = (I - ρW)^(-1) * ε\n",
    "    \"\"\"\n",
    "    if random_seed is not None:\n",
    "        np.random.seed(random_seed)\n",
    "    \n",
    "    n = W.shape[0]\n",
    "    I = sp.identity(n, format='csr')\n",
    "    \n",
    "    # Generate random error terms\n",
    "    epsilon = np.random.normal(0, sigma, size=n)\n",
    "    \n",
    "    # Calculate (I - ρW)^(-1)\n",
    "    A_inv = inv((I - rho * W).toarray())\n",
    "    \n",
    "    # Compute SAR process: y = (I - ρW)^(-1) * ε\n",
    "    y = A_inv @ epsilon\n",
    "    \n",
    "    # Adjust to the target mean while preserving variance structure\n",
    "    y = y - np.mean(y) + fixed_mean\n",
    "    \n",
    "    return y"
   ]
  },
  {
   "cell_type": "code",
   "execution_count": 7,
   "id": "886fc7df",
   "metadata": {},
   "outputs": [],
   "source": [
    "def create_df_for_simulation(simulation, n, grid_size, fixed_rho, fixed_mean):\n",
    "    \"\"\"\n",
    "    Create a DataFrame for a simulation result.\n",
    "    \"\"\"\n",
    "    df_index = pd.DataFrame({'Index': np.arange(n**2)})\n",
    "\n",
    "    def calculate_square_coordinates(row, n):\n",
    "        value = row['Index']\n",
    "        x = value % n\n",
    "        y = value // n\n",
    "        return geom.Polygon([(x, y), (x+1, y), (x+1, y+1), (x, y+1)])\n",
    "    \n",
    "    df_index['geometry'] = df_index.apply(lambda row: calculate_square_coordinates(row, n), axis=1)\n",
    "    \n",
    "    temp_df = df_index.copy()\n",
    "    temp_df['Value'] = simulation\n",
    "    temp_df['rho'] = fixed_rho\n",
    "    temp_df['mean'] = fixed_mean\n",
    "    temp_df['grid_size'] = n\n",
    "\n",
    "    temp_gdf = gpd.GeoDataFrame(temp_df, geometry='geometry')\n",
    "    return temp_gdf"
   ]
  },
  {
   "cell_type": "code",
   "execution_count": 8,
   "id": "c4f69393",
   "metadata": {},
   "outputs": [],
   "source": [
    "# def visualize_varying_grid_sizes(simulations, grid_sizes, fixed_rho, fixed_mean, cmap='coolwarm'):\n",
    "#     \"\"\"\n",
    "#     Visualize spatial patterns with different grid sizes but fixed autocorrelation and mean.\n",
    "#     \"\"\"\n",
    "#     # Number of columns in the grid\n",
    "#     ncols = min(4, len(grid_sizes))\n",
    "#     # Number of rows needed\n",
    "#     nrows = (len(grid_sizes) + ncols - 1) // ncols\n",
    "    \n",
    "#     fig, axs = plt.subplots(nrows, ncols, figsize=(ncols*4, nrows*4))\n",
    "#     if nrows == 1 and ncols == 1:\n",
    "#         axs = np.array([axs])\n",
    "#     axs = axs.flatten() if isinstance(axs, np.ndarray) else [axs]\n",
    "    \n",
    "#     # Find global min and max for consistent color scaling\n",
    "#     vmin = min(sim_data.min() for n, sim_data in simulations.items())\n",
    "#     vmax = max(sim_data.max() for n, sim_data in simulations.items())\n",
    "    \n",
    "#     for i, n in enumerate(grid_sizes):\n",
    "#         if i < len(axs):\n",
    "#             sim_data = simulations[n].reshape((n, n))\n",
    "#             im = axs[i].imshow(sim_data, cmap=cmap, vmin=vmin, vmax=vmax)\n",
    "#             # axs[i].set_title(f\"Grid Size = {n}x{n}\\nMean = {simulations[n].mean():.3f}\")\n",
    "#             axs[i].axis('off')\n",
    "    \n",
    "#     # Hide any unused axes\n",
    "#     for i in range(len(grid_sizes), len(axs)):\n",
    "#         axs[i].axis('off')\n",
    "    \n",
    "#     # Add colorbar\n",
    "#     # cbar_ax = fig.add_axes([0.92, 0.15, 0.02, 0.7])\n",
    "#     # fig.colorbar(im, cax=cbar_ax)\n",
    "    \n",
    "#     # plt.suptitle(f\"Spatial Patterns with Fixed Autocorrelation (ρ = {fixed_rho}) and Mean ({fixed_mean})\", fontsize=16)\n",
    "#     plt.tight_layout(rect=[0, 0, 0.9, 0.95])\n",
    "#     return fig"
   ]
  },
  {
   "cell_type": "code",
   "execution_count": 9,
   "id": "25ef0ef0",
   "metadata": {},
   "outputs": [],
   "source": [
    "def visualize_varying_grid_sizes(simulations, grid_sizes, fixed_rho, fixed_mean, cmap='coolwarm'):\n",
    "    \"\"\"\n",
    "    Visualize spatial patterns with different grid sizes but fixed autocorrelation and mean.\n",
    "    All plots are displayed in a single row with subplot labels.\n",
    "    \"\"\"\n",
    "    # Create a single row of subplots\n",
    "    fig, axs = plt.subplots(1, len(grid_sizes), figsize=(len(grid_sizes)*4, 4))\n",
    "    \n",
    "    # Ensure axs is always an array even with a single subplot\n",
    "    if len(grid_sizes) == 1:\n",
    "        axs = np.array([axs])\n",
    "    \n",
    "    # Find global min and max for consistent color scaling\n",
    "    vmin = min(sim_data.min() for n, sim_data in simulations.items())\n",
    "    vmax = max(sim_data.max() for n, sim_data in simulations.items())\n",
    "    \n",
    "    # Create subplot labels\n",
    "    subplot_labels = ['(a)', '(b)', '(c)', '(d)', '(e)', '(f)', '(g)', '(h)']\n",
    "    \n",
    "    for i, n in enumerate(grid_sizes):\n",
    "        sim_data = simulations[n].reshape((n, n))\n",
    "        im = axs[i].imshow(sim_data, cmap=cmap, vmin=vmin, vmax=vmax)\n",
    "        axs[i].axis('off')\n",
    "        \n",
    "        # Add subplot label at the bottom of each figure\n",
    "        axs[i].text(0.5, -0.05, subplot_labels[i], transform=axs[i].transAxes, \n",
    "                   fontsize=12, ha='center', va='top')\n",
    "    \n",
    "    plt.tight_layout()\n",
    "    return fig"
   ]
  },
  {
   "cell_type": "code",
   "execution_count": 26,
   "id": "de040579",
   "metadata": {},
   "outputs": [],
   "source": [
    "def visualize_varying_grid_sizes_individual(simulations, grid_sizes, fixed_rho, fixed_mean, cmap='coolwarm'):\n",
    "    \"\"\"\n",
    "    Visualize spatial patterns with different grid sizes but fixed autocorrelation and mean.\n",
    "    Each plot is displayed as a separate figure.\n",
    "    \"\"\"\n",
    "    # Find global min and max for consistent color scaling\n",
    "    vmin = min(sim_data.min() for sim_data in simulations.values())\n",
    "    vmax = max(sim_data.max() for sim_data in simulations.values())\n",
    "\n",
    "    # Subplot labels like (a), (b), etc.\n",
    "    # subplot_labels = ['(' + chr(97 + i) + ')' for i in range(len(grid_sizes))]\n",
    "\n",
    "    for i, n in enumerate(grid_sizes):\n",
    "        sim_data = simulations[n].reshape((n, n))\n",
    "\n",
    "        fig, ax = plt.subplots(figsize=(4, 4))\n",
    "        im = ax.imshow(sim_data, cmap=cmap, vmin=vmin, vmax=vmax)\n",
    "        ax.axis('off')\n",
    "        plt.tight_layout()\n",
    "        # plt.show()\n",
    "\n",
    "        plt.savefig(f\"simulation_grid_{n}x{n}.png\", bbox_inches='tight', dpi=300)\n",
    "        plt.close(fig)\n"
   ]
  },
  {
   "cell_type": "markdown",
   "id": "34862d63",
   "metadata": {},
   "source": [
    "Main Function"
   ]
  },
  {
   "cell_type": "code",
   "execution_count": 17,
   "id": "f1467849",
   "metadata": {},
   "outputs": [],
   "source": [
    "import sys\n",
    "import os\n",
    "sys.path.append(os.path.abspath('..'))"
   ]
  },
  {
   "cell_type": "code",
   "execution_count": 18,
   "id": "530cb61c",
   "metadata": {},
   "outputs": [],
   "source": [
    "# Import the TDA utilities needed\n",
    "from utills.adjacency_simplex import AdjacencySimplex \n",
    "from utills.calculate_tda_summaries import compute_persistence"
   ]
  },
  {
   "cell_type": "code",
   "execution_count": 19,
   "id": "80847222",
   "metadata": {},
   "outputs": [],
   "source": [
    "# Parameters\n",
    "fixed_rho = 0.7  # Fixed autocorrelation level\n",
    "fixed_mean = 0.8  # Fixed mean value\n",
    "sigma = 1.0\n",
    "random_seed = 42\n",
    "\n",
    "# Vary the grid sizes (starting small and increasing)\n",
    "# grid_sizes = [4, 6, 8, 10, 12, 16, 20, 24]\n",
    "grid_sizes = [4, 6, 8, 10, 12]\n",
    "\n",
    "# Initialize dictionary to store simulation results\n",
    "simulations = {}\n",
    "computation_times = {}"
   ]
  },
  {
   "cell_type": "code",
   "execution_count": 20,
   "id": "1d0ccd0a",
   "metadata": {},
   "outputs": [
    {
     "name": "stdout",
     "output_type": "stream",
     "text": [
      "Processing grid size 4x4...\n",
      "Grid size 4x4 completed in 0.00 seconds\n",
      "Processing grid size 6x6...\n",
      "Grid size 6x6 completed in 0.00 seconds\n",
      "Processing grid size 8x8...\n",
      "Grid size 8x8 completed in 0.00 seconds\n",
      "Processing grid size 10x10...\n",
      "Grid size 10x10 completed in 0.10 seconds\n",
      "Processing grid size 12x12...\n",
      "Grid size 12x12 completed in 0.29 seconds\n"
     ]
    }
   ],
   "source": [
    "for n in grid_sizes:\n",
    "    start_time = time.time()\n",
    "    \n",
    "    print(f\"Processing grid size {n}x{n}...\")\n",
    "    \n",
    "    # Create and standardize the adjacency matrix\n",
    "    W = create_queen_adjacency(n)\n",
    "    W_std = row_standardize_sparse(W)\n",
    "    \n",
    "    # Simulate with fixed autocorrelation and mean\n",
    "    simulations[n] = simulate_sar_fixed_mean(W_std, fixed_rho, fixed_mean=fixed_mean, \n",
    "                                             sigma=sigma, random_seed=random_seed)\n",
    "    \n",
    "    end_time = time.time()\n",
    "    computation_times[n] = end_time - start_time\n",
    "    print(f\"Grid size {n}x{n} completed in {computation_times[n]:.2f} seconds\")"
   ]
  },
  {
   "cell_type": "code",
   "execution_count": 21,
   "id": "6d6f2278",
   "metadata": {},
   "outputs": [],
   "source": [
    "# Create GeoDataFrames for each simulation\n",
    "geo_dataframes = {}\n",
    "for n in grid_sizes:\n",
    "    geo_dataframes[n] = create_df_for_simulation(simulations[n], n, grid_sizes, fixed_rho, fixed_mean)\n",
    "\n",
    "# Calculate TDA summaries for each grid size\n",
    "results_df = pd.DataFrame(columns=['Grid_Size', 'Num_Cells', 'Filter_Method', 'TL', 'AL', 'TML', 'AML', 'Actual_Mean', 'Computation_Time'])"
   ]
  },
  {
   "cell_type": "code",
   "execution_count": 22,
   "id": "872c3e29",
   "metadata": {},
   "outputs": [
    {
     "name": "stdout",
     "output_type": "stream",
     "text": [
      "Calculating TDA summaries for grid size 4x4...\n",
      "TDA calculation completed in 0.10 seconds\n",
      "Calculating TDA summaries for grid size 6x6...\n",
      "TDA calculation completed in 0.02 seconds\n",
      "Calculating TDA summaries for grid size 8x8...\n",
      "TDA calculation completed in 0.03 seconds\n",
      "Calculating TDA summaries for grid size 10x10...\n",
      "TDA calculation completed in 0.05 seconds\n",
      "Calculating TDA summaries for grid size 12x12...\n",
      "TDA calculation completed in 0.08 seconds\n"
     ]
    },
    {
     "name": "stderr",
     "output_type": "stream",
     "text": [
      "/var/folders/j3/904q7dbj02j_jyjz7pvfgz384d40kw/T/ipykernel_11754/3330105011.py:30: FutureWarning: The behavior of DataFrame concatenation with empty or all-NA entries is deprecated. In a future version, this will no longer exclude empty or all-NA columns when determining the result dtypes. To retain the old behavior, exclude the relevant entries before the concat operation.\n",
      "  results_df = pd.concat([results_df, new_row], ignore_index=True)\n"
     ]
    }
   ],
   "source": [
    "for n in grid_sizes:\n",
    "    print(f\"Calculating TDA summaries for grid size {n}x{n}...\")\n",
    "    start_time = time.time()\n",
    "    \n",
    "    gdf = geo_dataframes[n]\n",
    "    actual_mean = gdf['Value'].mean()\n",
    "    \n",
    "    # Calculate TDA summaries with downward filtration\n",
    "    adj_simplex = AdjacencySimplex(gdf, 'Value', threshold=None, filter_method='down')\n",
    "    filtered_df, gdf_id = adj_simplex.filter_sort_gdf()\n",
    "    adj_simplex.calculate_adjacent_countries()\n",
    "    simplex = adj_simplex.form_simplicial_complex()\n",
    "    _, TL, AL, TML, AML, _ = compute_persistence(simplices=simplex, filtered_df=filtered_df, variable_name='Value')\n",
    "    \n",
    "    end_time = time.time()\n",
    "    tda_time = end_time - start_time\n",
    "    \n",
    "    # Add results to DataFrame\n",
    "    new_row = pd.DataFrame({\n",
    "        'Grid_Size': [f\"{n}x{n}\"],\n",
    "        'Num_Cells': [n*n],\n",
    "        'Filter_Method': ['down'],\n",
    "        'TL': [TL],\n",
    "        'AL': [AL],\n",
    "        'TML': [TML],\n",
    "        'AML': [AML],\n",
    "        'Actual_Mean': [actual_mean],\n",
    "        'Computation_Time': [tda_time]\n",
    "    })\n",
    "    results_df = pd.concat([results_df, new_row], ignore_index=True)\n",
    "    print(f\"TDA calculation completed in {tda_time:.2f} seconds\")"
   ]
  },
  {
   "cell_type": "code",
   "execution_count": 23,
   "id": "e2e7d6a6",
   "metadata": {},
   "outputs": [],
   "source": [
    "# Convert numerical columns to float\n",
    "numeric_cols = ['Num_Cells', 'TL', 'AL', 'TML', 'AML', 'Actual_Mean', 'Computation_Time']\n",
    "results_df[numeric_cols] = results_df[numeric_cols].astype(float)\n"
   ]
  },
  {
   "cell_type": "code",
   "execution_count": 24,
   "id": "90afeb18",
   "metadata": {},
   "outputs": [
    {
     "data": {
      "text/html": [
       "<div>\n",
       "<style scoped>\n",
       "    .dataframe tbody tr th:only-of-type {\n",
       "        vertical-align: middle;\n",
       "    }\n",
       "\n",
       "    .dataframe tbody tr th {\n",
       "        vertical-align: top;\n",
       "    }\n",
       "\n",
       "    .dataframe thead th {\n",
       "        text-align: right;\n",
       "    }\n",
       "</style>\n",
       "<table border=\"1\" class=\"dataframe\">\n",
       "  <thead>\n",
       "    <tr style=\"text-align: right;\">\n",
       "      <th></th>\n",
       "      <th>Grid_Size</th>\n",
       "      <th>Num_Cells</th>\n",
       "      <th>Filter_Method</th>\n",
       "      <th>TL</th>\n",
       "      <th>AL</th>\n",
       "      <th>TML</th>\n",
       "      <th>AML</th>\n",
       "      <th>Actual_Mean</th>\n",
       "      <th>Computation_Time</th>\n",
       "    </tr>\n",
       "  </thead>\n",
       "  <tbody>\n",
       "    <tr>\n",
       "      <th>0</th>\n",
       "      <td>4x4</td>\n",
       "      <td>16.0</td>\n",
       "      <td>down</td>\n",
       "      <td>49.433109</td>\n",
       "      <td>3.089569</td>\n",
       "      <td>24.716554</td>\n",
       "      <td>1.544785</td>\n",
       "      <td>0.8</td>\n",
       "      <td>0.100408</td>\n",
       "    </tr>\n",
       "    <tr>\n",
       "      <th>1</th>\n",
       "      <td>6x6</td>\n",
       "      <td>36.0</td>\n",
       "      <td>down</td>\n",
       "      <td>83.229774</td>\n",
       "      <td>2.311938</td>\n",
       "      <td>41.614887</td>\n",
       "      <td>1.155969</td>\n",
       "      <td>0.8</td>\n",
       "      <td>0.021005</td>\n",
       "    </tr>\n",
       "    <tr>\n",
       "      <th>2</th>\n",
       "      <td>8x8</td>\n",
       "      <td>64.0</td>\n",
       "      <td>down</td>\n",
       "      <td>142.288101</td>\n",
       "      <td>2.223252</td>\n",
       "      <td>71.144050</td>\n",
       "      <td>1.111626</td>\n",
       "      <td>0.8</td>\n",
       "      <td>0.031327</td>\n",
       "    </tr>\n",
       "    <tr>\n",
       "      <th>3</th>\n",
       "      <td>10x10</td>\n",
       "      <td>100.0</td>\n",
       "      <td>down</td>\n",
       "      <td>255.347726</td>\n",
       "      <td>2.553477</td>\n",
       "      <td>127.673863</td>\n",
       "      <td>1.276739</td>\n",
       "      <td>0.8</td>\n",
       "      <td>0.046443</td>\n",
       "    </tr>\n",
       "    <tr>\n",
       "      <th>4</th>\n",
       "      <td>12x12</td>\n",
       "      <td>144.0</td>\n",
       "      <td>down</td>\n",
       "      <td>435.774247</td>\n",
       "      <td>3.026210</td>\n",
       "      <td>217.887123</td>\n",
       "      <td>1.513105</td>\n",
       "      <td>0.8</td>\n",
       "      <td>0.076634</td>\n",
       "    </tr>\n",
       "  </tbody>\n",
       "</table>\n",
       "</div>"
      ],
      "text/plain": [
       "  Grid_Size  Num_Cells Filter_Method          TL        AL         TML  \\\n",
       "0       4x4       16.0          down   49.433109  3.089569   24.716554   \n",
       "1       6x6       36.0          down   83.229774  2.311938   41.614887   \n",
       "2       8x8       64.0          down  142.288101  2.223252   71.144050   \n",
       "3     10x10      100.0          down  255.347726  2.553477  127.673863   \n",
       "4     12x12      144.0          down  435.774247  3.026210  217.887123   \n",
       "\n",
       "        AML  Actual_Mean  Computation_Time  \n",
       "0  1.544785          0.8          0.100408  \n",
       "1  1.155969          0.8          0.021005  \n",
       "2  1.111626          0.8          0.031327  \n",
       "3  1.276739          0.8          0.046443  \n",
       "4  1.513105          0.8          0.076634  "
      ]
     },
     "execution_count": 24,
     "metadata": {},
     "output_type": "execute_result"
    }
   ],
   "source": [
    "results_df"
   ]
  },
  {
   "cell_type": "code",
   "execution_count": 27,
   "id": "23f48578",
   "metadata": {},
   "outputs": [
    {
     "name": "stdout",
     "output_type": "stream",
     "text": [
      "Generating visualization of spatial patterns...\n"
     ]
    }
   ],
   "source": [
    "# Visualize the spatial patterns\n",
    "print(\"Generating visualization of spatial patterns...\")\n",
    "# fig_patterns = visualize_varying_grid_sizes(simulations, grid_sizes, fixed_rho, fixed_mean)\n",
    "# plt.savefig('spatial_patterns_varying_grid_sizes.png', dpi=300, bbox_inches='tight')\n",
    "# plt.show()\n",
    "# plt.close()\n",
    "\n",
    "\n",
    "visualize_varying_grid_sizes_individual(simulations, grid_sizes, fixed_rho, fixed_mean)"
   ]
  },
  {
   "cell_type": "code",
   "execution_count": 31,
   "id": "cc84f153",
   "metadata": {},
   "outputs": [
    {
     "data": {
      "image/png": "[encoded data removed]",
      "text/plain": [
       "<Figure size 1000x500 with 2 Axes>"
      ]
     },
     "metadata": {},
     "output_type": "display_data"
    }
   ],
   "source": [
    "# Plot TDA summaries vs grid sizes\n",
    "fig, axes = plt.subplots(1, 2, figsize=(10,5))\n",
    "axes = axes.flatten()\n",
    "\n",
    "measures = ['AL', 'AML']\n",
    "titles = ['Average Lifespan', 'Average Mid Lifetime']\n",
    "\n",
    "for i, (measure, title) in enumerate(zip(measures, titles)):\n",
    "    axes[i].plot(results_df['Num_Cells'], results_df[measure], marker='o', linestyle='-', linewidth=2)\n",
    "    axes[i].set_xlabel('Number of Cells (Grid Size)')\n",
    "    axes[i].set_ylabel(title)\n",
    "    axes[i].set_title(f'{title} vs Grid Size (ρ = {fixed_rho}, Mean = {fixed_mean})')\n",
    "    axes[i].grid(True, alpha=0.3)\n",
    "    # Set x-axis to log scale for better visualization of the range\n",
    "    # axes[i].set_xscale('log')\n",
    "\n",
    "plt.tight_layout()\n",
    "# plt.savefig('tda_measures_vs_grid_size.png', dpi=300)\n",
    "plt.show()\n",
    "plt.close()"
   ]
  },
  {
   "cell_type": "code",
   "execution_count": 30,
   "id": "319ff9f6",
   "metadata": {},
   "outputs": [
    {
     "data": {
      "image/png": "[encoded data removed]",
      "text/plain": [
       "<Figure size 1000x600 with 1 Axes>"
      ]
     },
     "metadata": {},
     "output_type": "display_data"
    }
   ],
   "source": [
    "# plot a line plot of the results X axis is GDF and Y axis is TL, AL, TML, AML\n",
    "fig, ax = plt.subplots(figsize=(10, 6))\n",
    "for col in ['AL', 'AML']:\n",
    "    ax.plot(results_df['Num_Cells'], results_df[col], label=col)\n",
    "ax.set_xlabel('Number of Cells (Grid Size)')\n",
    "ax.set_ylabel('Value')\n",
    "# ax.set_title('Line plot of Al and AML')\n",
    "# ax.legend()\n",
    "# plt.show()\n",
    "plt.savefig('line_plot_al_aml_vs_grid_size.png', dpi=300, bbox_inches='tight')"
   ]
  },
  {
   "cell_type": "code",
   "execution_count": null,
   "id": "54e6321f",
   "metadata": {},
   "outputs": [],
   "source": []
  }
 ],
 "metadata": {
  "kernelspec": {
   "display_name": "TDA",
   "language": "python",
   "name": "python3"
  },
  "language_info": {
   "codemirror_mode": {
    "name": "ipython",
    "version": 3
   },
   "file_extension": ".py",
   "mimetype": "text/x-python",
   "name": "python",
   "nbconvert_exporter": "python",
   "pygments_lexer": "ipython3",
   "version": "3.11.4"
  }
 },
 "nbformat": 4,
 "nbformat_minor": 5
}
